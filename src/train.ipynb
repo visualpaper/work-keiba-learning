{
 "cells": [
  {
   "cell_type": "code",
   "execution_count": 1,
   "id": "10b21e33-5ce1-4ac0-8d75-fcd270425986",
   "metadata": {},
   "outputs": [
    {
     "name": "stdout",
     "output_type": "stream",
     "text": [
      "\n",
      "RANK_ONE_TWO_HORSE            :              0円 的中率 0.00%    回収率 0.00%    (0/0)\n",
      "RANK_ONE_THREE_HORSE          :              0円 的中率 0.00%    回収率 0.00%    (0/0)\n",
      "RANK_ONE_FOUR_HORSE           :              0円 的中率 0.00%    回収率 0.00%    (0/0)\n",
      "RANK_ONE_FIVE_HORSE           :              0円 的中率 0.00%    回収率 0.00%    (0/0)\n",
      "RANK_TWO_THREE_HORSE          :              0円 的中率 0.00%    回収率 0.00%    (0/0)\n",
      "RANK_TWO_FOUR_HORSE           :              0円 的中率 0.00%    回収率 0.00%    (0/0)\n",
      "NO_ACITON                     :              0円 的中率 0.00%    回収率 0.00%    (0/0)\n",
      "TOTAL                         :              0円 的中率 0.00%    回収率 0.00%    (0/0)\n",
      "create\n",
      "WARNING:tensorflow:From C:\\Users\\kazuy\\anaconda3\\envs\\keiba_ai_learning2\\lib\\site-packages\\keras\\layers\\normalization\\batch_normalization.py:561: _colocate_with (from tensorflow.python.framework.ops) is deprecated and will be removed in a future version.\n",
      "Instructions for updating:\n",
      "Colocations handled automatically by placer.\n",
      "Model: \"sequential\"\n",
      "_________________________________________________________________\n",
      " Layer (type)                Output Shape              Param #   \n",
      "=================================================================\n",
      " flatten (Flatten)           (None, 40)                0         \n",
      "                                                                 \n",
      " dense (Dense)               (None, 128)               5248      \n",
      "                                                                 \n",
      " dense_1 (Dense)             (None, 128)               16512     \n",
      "                                                                 \n",
      " batch_normalization (BatchN  (None, 128)              512       \n",
      " ormalization)                                                   \n",
      "                                                                 \n",
      " dense_2 (Dense)             (None, 128)               16512     \n",
      "                                                                 \n",
      " dense_3 (Dense)             (None, 128)               16512     \n",
      "                                                                 \n",
      " dropout (Dropout)           (None, 128)               0         \n",
      "                                                                 \n",
      " dense_4 (Dense)             (None, 7)                 903       \n",
      "                                                                 \n",
      "=================================================================\n",
      "Total params: 56,199\n",
      "Trainable params: 55,943\n",
      "Non-trainable params: 256\n",
      "_________________________________________________________________\n",
      "WARNING:tensorflow:From C:\\Users\\kazuy\\anaconda3\\envs\\keiba_ai_learning2\\lib\\site-packages\\tensorflow\\python\\autograph\\pyct\\static_analysis\\liveness.py:83: Analyzer.lamba_check (from tensorflow.python.autograph.pyct.static_analysis.liveness) is deprecated and will be removed after 2023-09-23.\n",
      "Instructions for updating:\n",
      "Lambda fuctions will be no more assumed to be used in the statement where they are used, or at least in the same block. https://github.com/tensorflow/tensorflow/issues/56089\n",
      "Training for 10000000 steps ...\n",
      "\n",
      "RANK_ONE_TWO_HORSE            :              0円 的中率 0.00%    回収率 0.00%    (0/0)\n",
      "RANK_ONE_THREE_HORSE          :              0円 的中率 0.00%    回収率 0.00%    (0/0)\n",
      "RANK_ONE_FOUR_HORSE           :              0円 的中率 0.00%    回収率 0.00%    (0/0)\n",
      "RANK_ONE_FIVE_HORSE           :              0円 的中率 0.00%    回収率 0.00%    (0/0)\n",
      "RANK_TWO_THREE_HORSE          :              0円 的中率 0.00%    回収率 0.00%    (0/0)\n",
      "RANK_TWO_FOUR_HORSE           :              0円 的中率 0.00%    回収率 0.00%    (0/0)\n",
      "NO_ACITON                     :              0円 的中率 0.00%    回収率 0.00%    (0/0)\n",
      "TOTAL                         :              0円 的中率 0.00%    回収率 0.00%    (0/0)\n",
      "Interval 1 (0 steps performed)\n",
      "   23/34462 [..............................] - ETA: 2:46 - reward: -0.9130"
     ]
    },
    {
     "name": "stderr",
     "output_type": "stream",
     "text": [
      "C:\\Users\\kazuy\\anaconda3\\envs\\keiba_ai_learning2\\lib\\site-packages\\keras\\engine\\training_v1.py:2357: UserWarning: `Model.state_updates` will be removed in a future version. This property should not be used in TensorFlow 2.0, as `updates` are applied automatically.\n",
      "  updates=self.state_updates,\n"
     ]
    },
    {
     "name": "stdout",
     "output_type": "stream",
     "text": [
      " 1000/34462 [..............................] - ETA: 2:33 - reward: -0.8700"
     ]
    },
    {
     "name": "stderr",
     "output_type": "stream",
     "text": [
      "C:\\Users\\kazuy\\anaconda3\\envs\\keiba_ai_learning2\\lib\\site-packages\\keras\\engine\\training_v1.py:2357: UserWarning: `Model.state_updates` will be removed in a future version. This property should not be used in TensorFlow 2.0, as `updates` are applied automatically.\n",
      "  updates=self.state_updates,\n"
     ]
    },
    {
     "name": "stdout",
     "output_type": "stream",
     "text": [
      "34462/34462 [==============================] - 290s 8ms/step - reward: -0.8016\n",
      "\n",
      "RANK_ONE_TWO_HORSE            :        -862300円 的中率 13.03%   回収率 -11.17%  (1006/7720)\n",
      "RANK_ONE_THREE_HORSE          :       -1244800円 的中率 11.59%   回収率 -25.44%  (567/4894)\n",
      "RANK_ONE_FOUR_HORSE           :        -786500円 的中率 10.51%   回収率 -12.68%  (652/6205)\n",
      "RANK_ONE_FIVE_HORSE           :       -1221700円 的中率 10.16%   回収率 -30.44%  (408/4014)\n",
      "RANK_TWO_THREE_HORSE          :       -1355600円 的中率 7.33%    回収率 -28.13%  (353/4819)\n",
      "RANK_TWO_FOUR_HORSE           :        -343500円 的中率 9.39%    回収率 -7.46%   (432/4603)\n",
      "NO_ACITON                     :              0円 的中率 0.00%    回収率 0.00%    (0/2207)\n",
      "TOTAL                         :       -8021400円 的中率 9.92%    回収率 -23.28%  (3418/34462)\n",
      "1 episodes - episode_reward: -27626.000 [-27626.000, -27626.000] - loss: 1.775 - binary_crossentropy: -24.608 - accuracy: 0.146 - mean_q: -9.638\n",
      "\n",
      "Interval 2 (34462 steps performed)\n",
      "14828/34462 [===========>..................] - ETA: 2:51 - reward: -0.7596done, took 422.110 seconds\n"
     ]
    }
   ],
   "source": [
    "import gym\n",
    "from tensorflow import keras\n",
    "from tensorflow.keras.optimizers.legacy import Adam\n",
    "from rl.agents.dqn import DQNAgent\n",
    "from rl.policy import EpsGreedyQPolicy\n",
    "from rl.memory import SequentialMemory\n",
    "import matplotlib.pyplot as plt\n",
    "#from keras.metrics import AUC\n",
    "\n",
    "import numpy as np\n",
    "\n",
    "from env.env import KeibaEnv\n",
    "\n",
    "\n",
    "# ゲーム環境を作成します\n",
    "env = KeibaEnv(\n",
    "    [\n",
    "        \"./../data/train/2003_train_binary.csv\",\n",
    "        \"./../data/train/2004_train_binary.csv\",\n",
    "        \"./../data/train/2005_train_binary.csv\",\n",
    "        \"./../data/train/2006_train_binary.csv\",\n",
    "        \"./../data/train/2007_train_binary.csv\",\n",
    "        \"./../data/train/2008_train_binary.csv\",\n",
    "        \"./../data/train/2009_train_binary.csv\",\n",
    "        \"./../data/train/2010_train_binary.csv\",\n",
    "        \"./../data/train/2011_train_binary.csv\",\n",
    "        \"./../data/train/2012_train_binary.csv\",\n",
    "    ],\n",
    "    [\n",
    "        \"./../data/train/2003_result_wide.csv\",\n",
    "        \"./../data/train/2004_result_wide.csv\",\n",
    "        \"./../data/train/2005_result_wide.csv\",\n",
    "        \"./../data/train/2006_result_wide.csv\",\n",
    "        \"./../data/train/2007_result_wide.csv\",\n",
    "        \"./../data/train/2008_result_wide.csv\",\n",
    "        \"./../data/train/2009_result_wide.csv\",\n",
    "        \"./../data/train/2010_result_wide.csv\",\n",
    "        \"./../data/train/2011_result_wide.csv\",\n",
    "        \"./../data/train/2012_result_wide.csv\",\n",
    "    ]\n",
    ")\n",
    "\n",
    "# ゲーム環境を初期化します。\n",
    "observation = env.reset()\n",
    "\n",
    "# 環境からアクション数を取得します。このゲームでは4となります。\n",
    "nb_actions = env.action_space.n\n",
    "\n",
    "try:\n",
    "    model = keras.models.load_model('./../model/binary_model_wide')\n",
    "except:\n",
    "    print(\"create\")\n",
    "    # Kerasを使ってモデルを作成します。\n",
    "    model = keras.models.Sequential([\n",
    "        keras.layers.Flatten(input_shape=(1,) + env.observation_space.shape),\n",
    "        keras.layers.Dense(128, activation=\"elu\"),\n",
    "        keras.layers.Dense(128, activation='elu'),\n",
    "        keras.layers.BatchNormalization(),\n",
    "        keras.layers.Dense(128, activation='elu'),\n",
    "        keras.layers.Dense(128, activation='elu'),\n",
    "        keras.layers.Dropout(0.3),\n",
    "        keras.layers.Dense(nb_actions, activation=\"linear\"),\n",
    "    ])\n",
    "\n",
    "model.summary()\n",
    "    \n",
    "# 経験値を蓄積するためのメモリです。学習を安定させるために使用します。\n",
    "memory = SequentialMemory(limit=50000, window_length=1)\n",
    "\n",
    "# 行動ポリシーはBoltzmannQPolicyを使用しています。\n",
    "# EpsGreedyQPolicyと比較して、こちらの方が収束が早かったので採用しています。\n",
    "policy = EpsGreedyQPolicy()\n",
    "\n",
    "# DQNAgentを作成します。\n",
    "dqn = DQNAgent(\n",
    "    model=model,\n",
    "    nb_actions=nb_actions,\n",
    "    memory=memory,\n",
    "    target_model_update=1e-2,\n",
    "    policy=policy)\n",
    "\n",
    "# DQNAgentのコンパイル。最適化はAdam,評価関数はMAEを使用します。\n",
    "dqn.compile(Adam(learning_rate=1e-5), metrics=[\n",
    "    keras.losses.BinaryCrossentropy(from_logits=True, name='binary_crossentropy'), 'accuracy'\n",
    "])\n",
    "\n",
    "# 学習開始\n",
    "history = dqn.fit(env, nb_steps=10000000, visualize=False, log_interval=34462, verbose=1)\n"
   ]
  },
  {
   "cell_type": "code",
   "execution_count": 2,
   "id": "8147fc66-bb20-4bce-bdc3-6bd2ac04f446",
   "metadata": {},
   "outputs": [
    {
     "name": "stdout",
     "output_type": "stream",
     "text": [
      "INFO:tensorflow:Assets written to: ./../model/binary_model_wide\\assets\n",
      "[-27626.0]\n"
     ]
    },
    {
     "data": {
      "image/png": "[encoded data removed]",
      "text/plain": [
       "<Figure size 640x480 with 1 Axes>"
      ]
     },
     "metadata": {},
     "output_type": "display_data"
    }
   ],
   "source": [
    "# 学習した重みをファイルに保存します。\n",
    "#dqn.save_weights('./../model/moving_test.hdf5', overwrite=True)\n",
    "\n",
    "# 学習したモデルを保存\n",
    "model.save(\"./../model/binary_model_wide\")\n",
    "print(history.history['episode_reward'])\n",
    "\n",
    "# ゲームごとのステップ数と報酬をグラフ化します。\n",
    "#plt.plot(history.history['nb_episode_steps'], label='nb_episode_steps')\n",
    "plt.plot(history.history['episode_reward'], label='episode_reward')\n",
    "plt.legend()\n",
    "plt.show()"
   ]
  },
  {
   "cell_type": "code",
   "execution_count": null,
   "id": "a3c250a1-1ee9-4f0e-ba96-6b6d126deb2b",
   "metadata": {},
   "outputs": [],
   "source": []
  }
 ],
 "metadata": {
  "kernelspec": {
   "display_name": "Python 3 (ipykernel)",
   "language": "python",
   "name": "python3"
  },
  "language_info": {
   "codemirror_mode": {
    "name": "ipython",
    "version": 3
   },
   "file_extension": ".py",
   "mimetype": "text/x-python",
   "name": "python",
   "nbconvert_exporter": "python",
   "pygments_lexer": "ipython3",
   "version": "3.10.9"
  },
  "vscode": {
   "interpreter": {
    "hash": "4caf82e643e4ad2a990ff255ea5c6c47b964940d4c625cd8ad41c21257366cb4"
   }
  }
 },
 "nbformat": 4,
 "nbformat_minor": 5
}
