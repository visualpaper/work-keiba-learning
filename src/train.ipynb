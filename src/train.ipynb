{
 "cells": [
  {
   "cell_type": "code",
   "execution_count": 1,
   "id": "10b21e33-5ce1-4ac0-8d75-fcd270425986",
   "metadata": {},
   "outputs": [
    {
     "name": "stdout",
     "output_type": "stream",
     "text": [
      "\n",
      "RANK_ONE_HORSE: 0\n",
      "RANK_TWO_HORSE: 0\n",
      "RANK_THREE_HORSE: 0\n",
      "RANK_FOUR_HORSE: 0\n",
      "RANK_FIVE_HORSE: 0\n",
      "NO_ACITON: 0\n",
      "\n",
      "create\n",
      "WARNING:tensorflow:From C:\\Users\\kazuy\\anaconda3\\envs\\keiba_ai_learning2\\lib\\site-packages\\tensorflow\\python\\autograph\\pyct\\static_analysis\\liveness.py:83: Analyzer.lamba_check (from tensorflow.python.autograph.pyct.static_analysis.liveness) is deprecated and will be removed after 2023-09-23.\n",
      "Instructions for updating:\n",
      "Lambda fuctions will be no more assumed to be used in the statement where they are used, or at least in the same block. https://github.com/tensorflow/tensorflow/issues/56089\n",
      "Training for 200000 steps ...\n",
      "\n",
      "RANK_ONE_HORSE: 0\n",
      "RANK_TWO_HORSE: 0\n",
      "RANK_THREE_HORSE: 0\n",
      "RANK_FOUR_HORSE: 0\n",
      "RANK_FIVE_HORSE: 0\n",
      "NO_ACITON: 0\n",
      "\n",
      "Interval 1 (0 steps performed)\n",
      "   59/10000 [..............................] - ETA: 26s - reward: 376.2712"
     ]
    },
    {
     "name": "stderr",
     "output_type": "stream",
     "text": [
      "C:\\Users\\kazuy\\anaconda3\\envs\\keiba_ai_learning2\\lib\\site-packages\\keras\\engine\\training_v1.py:2357: UserWarning: `Model.state_updates` will be removed in a future version. This property should not be used in TensorFlow 2.0, as `updates` are applied automatically.\n",
      "  updates=self.state_updates,\n"
     ]
    },
    {
     "name": "stdout",
     "output_type": "stream",
     "text": [
      "  994/10000 [=>............................] - ETA: 22s - reward: -116.9014"
     ]
    },
    {
     "name": "stderr",
     "output_type": "stream",
     "text": [
      "C:\\Users\\kazuy\\anaconda3\\envs\\keiba_ai_learning2\\lib\\site-packages\\keras\\engine\\training_v1.py:2357: UserWarning: `Model.state_updates` will be removed in a future version. This property should not be used in TensorFlow 2.0, as `updates` are applied automatically.\n",
      "  updates=self.state_updates,\n"
     ]
    },
    {
     "name": "stdout",
     "output_type": "stream",
     "text": [
      " 3319/10000 [========>.....................] - ETA: 43s - reward: -97.7409\n",
      "RANK_ONE_HORSE: 1301\n",
      "RANK_TWO_HORSE: 68\n",
      "RANK_THREE_HORSE: 1794\n",
      "RANK_FOUR_HORSE: 43\n",
      "RANK_FIVE_HORSE: 58\n",
      "NO_ACITON: 59\n",
      "\n",
      " 6645/10000 [==================>...........] - ETA: 25s - reward: -158.0742\n",
      "RANK_ONE_HORSE: 1293\n",
      "RANK_TWO_HORSE: 62\n",
      "RANK_THREE_HORSE: 1798\n",
      "RANK_FOUR_HORSE: 54\n",
      "RANK_FIVE_HORSE: 57\n",
      "NO_ACITON: 59\n",
      "\n",
      " 9965/10000 [============================>.] - ETA: 0s - reward: -132.1931\n",
      "RANK_ONE_HORSE: 1299\n",
      "RANK_TWO_HORSE: 52\n",
      "RANK_THREE_HORSE: 1813\n",
      "RANK_FOUR_HORSE: 58\n",
      "RANK_FIVE_HORSE: 53\n",
      "NO_ACITON: 48\n",
      "\n",
      "10000/10000 [==============================] - 80s 8ms/step - reward: -132.9704\n",
      "3 episodes - episode_reward: -440434.667 [-721501.000, -269901.000] - loss: 18288001.110 - mae: 282.573 - mean_q: 1.000\n",
      "\n",
      "Interval 2 (10000 steps performed)\n",
      " 2568/10000 [======>.......................] - ETA: 1:05 - reward: -106.4256done, took 102.595 seconds\n"
     ]
    }
   ],
   "source": [
    "import gym\n",
    "from tensorflow import keras\n",
    "from tensorflow.keras.optimizers.legacy import Adam\n",
    "from rl.agents.dqn import DQNAgent\n",
    "from rl.policy import EpsGreedyQPolicy\n",
    "from rl.memory import SequentialMemory\n",
    "import matplotlib.pyplot as plt\n",
    "\n",
    "import numpy as np\n",
    "\n",
    "from env.env import KeibaEnv\n",
    "\n",
    "# ゲーム環境を作成します\n",
    "env = KeibaEnv(\n",
    "    \"./../data/train/2003_ranking_without_g.csv\",\n",
    "    \"./../data/train/2003_result.csv\"\n",
    ")\n",
    "\n",
    "# ゲーム環境を初期化します。\n",
    "observation = env.reset()\n",
    "\n",
    "# 環境からアクション数を取得します。このゲームでは4となります。\n",
    "nb_actions = env.action_space.n\n",
    "\n",
    "try:\n",
    "    model = keras.models.load_model('./../model/ranking_model_without_g')\n",
    "except:\n",
    "    print(\"create\")\n",
    "    # Kerasを使ってモデルを作成します。\n",
    "    model = keras.models.Sequential([\n",
    "        keras.layers.Flatten(input_shape=(1,) + env.observation_space.shape),\n",
    "        keras.layers.Dense(64, activation=\"relu\"),\n",
    "        keras.layers.Dense(128, activation=\"relu\"),\n",
    "        keras.layers.Dense(256, activation=\"relu\"),\n",
    "        keras.layers.Dense(512, activation=\"relu\"),\n",
    "        keras.layers.Dense(nb_actions, activation=\"softmax\"),\n",
    "    ])\n",
    "\n",
    "# 経験値を蓄積するためのメモリです。学習を安定させるために使用します。\n",
    "memory = SequentialMemory(limit=50000000, window_length=1)\n",
    "\n",
    "# 行動ポリシーはBoltzmannQPolicyを使用しています。\n",
    "# EpsGreedyQPolicyと比較して、こちらの方が収束が早かったので採用しています。\n",
    "policy = EpsGreedyQPolicy()\n",
    "\n",
    "# DQNAgentを作成します。\n",
    "dqn = DQNAgent(\n",
    "    model=model,\n",
    "    nb_actions=nb_actions,\n",
    "    memory=memory,\n",
    "    target_model_update=1e-2,\n",
    "    policy=policy)\n",
    "\n",
    "# DQNAgentのコンパイル。最適化はAdam,評価関数はMAEを使用します。\n",
    "dqn.compile(Adam(learning_rate=1e-3), metrics=['mae'])\n",
    "\n",
    "# 学習を開始します。100000ステップ実行します。\n",
    "history = dqn.fit(env, nb_steps=200000, visualize=False, verbose=1)\n"
   ]
  },
  {
   "cell_type": "code",
   "execution_count": 2,
   "id": "8147fc66-bb20-4bce-bdc3-6bd2ac04f446",
   "metadata": {},
   "outputs": [
    {
     "name": "stdout",
     "output_type": "stream",
     "text": [
      "INFO:tensorflow:Assets written to: ./../model/ranking_model_without_g\\assets\n"
     ]
    },
    {
     "data": {
      "image/png": "[encoded data removed]",
      "text/plain": [
       "<Figure size 640x480 with 1 Axes>"
      ]
     },
     "metadata": {},
     "output_type": "display_data"
    }
   ],
   "source": [
    "# 学習した重みをファイルに保存します。\n",
    "#dqn.save_weights('moving_test.hdf5', overwrite=True)\n",
    "\n",
    "# 学習したモデルを保存\n",
    "model.save(\"./../model/ranking_model_without_g\")\n",
    "\n",
    "# ゲームごとのステップ数と報酬をグラフ化します。\n",
    "plt.plot(history.history['nb_episode_steps'], label='nb_episode_steps')\n",
    "plt.plot(history.history['episode_reward'], label='episode_reward')\n",
    "plt.legend()\n",
    "plt.show()"
   ]
  },
  {
   "cell_type": "code",
   "execution_count": null,
   "id": "38436ab7-abb5-4f16-8447-1670803bddb2",
   "metadata": {},
   "outputs": [],
   "source": []
  }
 ],
 "metadata": {
  "kernelspec": {
   "display_name": "Python 3 (ipykernel)",
   "language": "python",
   "name": "python3"
  },
  "language_info": {
   "codemirror_mode": {
    "name": "ipython",
    "version": 3
   },
   "file_extension": ".py",
   "mimetype": "text/x-python",
   "name": "python",
   "nbconvert_exporter": "python",
   "pygments_lexer": "ipython3",
   "version": "3.10.9"
  },
  "vscode": {
   "interpreter": {
    "hash": "4caf82e643e4ad2a990ff255ea5c6c47b964940d4c625cd8ad41c21257366cb4"
   }
  }
 },
 "nbformat": 4,
 "nbformat_minor": 5
}
