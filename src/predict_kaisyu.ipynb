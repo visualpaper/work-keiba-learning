{
 "cells": [
  {
   "cell_type": "code",
   "execution_count": 1,
   "id": "3318fbe0-a010-4521-b055-98c1ad6a6147",
   "metadata": {},
   "outputs": [],
   "source": [
    "import pandas as pd\n",
    "\n",
    "from df.keiba_data_frame import KeibaDataFrame\n",
    "from df.result_frame import ResultFrame\n",
    "from env.reward import Reward\n",
    "\n",
    "# Train Data 読み込み\n",
    "# ※ 既に AI 側で filter/data 整備は実施済みのため再 type 明確化と、特定列を Drop のみ行っている。\n",
    "kdf = KeibaDataFrame.from_data(\"./../data/train/2004_ranking_without_g.csv\")\n",
    "kdf.setting_types()\n",
    "\n",
    "# Reward 準備\n",
    "reward = Reward.initialize(\"./../data/train/2004_result.csv\")"
   ]
  },
  {
   "cell_type": "code",
   "execution_count": 2,
   "id": "eb285107-91ad-4df7-ab6d-8d2c1772cbbc",
   "metadata": {},
   "outputs": [
    {
     "name": "stdout",
     "output_type": "stream",
     "text": [
      "1/1 [==============================] - 0s 94ms/step\n",
      "[[0. 0. 1. 0. 0. 0.]]\n",
      "1/1 [==============================] - 0s 16ms/step\n",
      "[[0. 0. 1. 0. 0. 0.]]\n",
      "1/1 [==============================] - 0s 15ms/step\n",
      "[[0. 0. 1. 0. 0. 0.]]\n",
      "1/1 [==============================] - 0s 16ms/step\n",
      "[[0. 0. 1. 0. 0. 0.]]\n",
      "1/1 [==============================] - 0s 30ms/step\n",
      "[[0. 0. 1. 0. 0. 0.]]\n",
      "1/1 [==============================] - 0s 31ms/step\n",
      "[[1. 0. 0. 0. 0. 0.]]\n",
      "1/1 [==============================] - 0s 23ms/step\n",
      "[[0. 0. 1. 0. 0. 0.]]\n",
      "1/1 [==============================] - 0s 16ms/step\n",
      "[[0. 0. 1. 0. 0. 0.]]\n",
      "1/1 [==============================] - 0s 6ms/step\n",
      "[[1. 0. 0. 0. 0. 0.]]\n",
      "1/1 [==============================] - 0s 17ms/step\n",
      "[[0. 0. 1. 0. 0. 0.]]\n",
      "1/1 [==============================] - 0s 16ms/step\n",
      "[[0. 0. 1. 0. 0. 0.]]\n"
     ]
    }
   ],
   "source": [
    "import numpy as np\n",
    "from tensorflow import keras\n",
    "\n",
    "new_model = keras.models.load_model(\"./../model/ranking_model_without_g\")\n",
    "\n",
    "preds = []\n",
    "\n",
    "i = 0\n",
    "for v in kdf.groups():\n",
    "    v.reset_index(inplace=True, drop=True)\n",
    "    obs = v.reindex(range(20), fill_value=-1).values.reshape(1, 1, 20, 51).tolist()\n",
    "    q_values = new_model.predict(obs)\n",
    "    print(q_values)\n",
    "    action = np.argmax(q_values[0])\n",
    "    pred_df = pd.DataFrame(\n",
    "        {\n",
    "            \"track_id\": v[\"track_id\"],\n",
    "            \"date_num\": v[\"date_num\"],\n",
    "            \"round\": v[\"round\"],\n",
    "            \"number\": v[\"number\"],\n",
    "            \"pred\": v[\"pred\"],\n",
    "            \"action\": action,\n",
    "        }\n",
    "    )\n",
    "    preds.append(pred_df)\n",
    "    i += 1\n",
    "    if i > 10:\n",
    "        break\n",
    "\n",
    "preds_df = pd.concat(preds)"
   ]
  },
  {
   "cell_type": "code",
   "execution_count": 3,
   "id": "399381ec-18b0-4ad8-be55-f31debda1305",
   "metadata": {},
   "outputs": [
    {
     "name": "stdout",
     "output_type": "stream",
     "text": [
      "RANK_ONE_HORSE 回数: 2\n",
      "RANK_TWO_HORSE 回数: 0\n",
      "RANK_THREE_HORSE 回数: 9\n",
      "RANK_FOUR_HORSE 回数: 0\n",
      "RANK_FIVE_HORSE 回数: 0\n",
      "未購入回数: 0\n",
      "当たり馬券: 1\n",
      "はずれ馬券: 10\n",
      "的中率: 0.09090909090909091\n",
      "儲け: -9500\n"
     ]
    }
   ],
   "source": [
    "mikounyu_count = 0\n",
    "kounyu_count = 0\n",
    "atari_count = 0\n",
    "hazure_count = 0\n",
    "reward_total = 0\n",
    "\n",
    "action_0_count = 0\n",
    "action_1_count = 0\n",
    "action_2_count = 0\n",
    "action_3_count = 0\n",
    "action_4_count = 0\n",
    "\n",
    "df = preds_df.sort_values(\n",
    "    [\"date_num\", \"track_id\", \"round\"], ascending=[True, True, True]\n",
    ")\n",
    "\n",
    "for _, v in df.groupby([\"date_num\", \"track_id\", \"round\"], sort=False):\n",
    "    action = int(v.iloc[0][\"action\"])\n",
    "\n",
    "    if action == 0:\n",
    "        action_0_count += 1\n",
    "    elif action == 1:\n",
    "        action_1_count += 1\n",
    "    elif action == 2:\n",
    "        action_2_count += 1\n",
    "    elif action == 3:\n",
    "        action_3_count += 1\n",
    "    elif action == 4:\n",
    "        action_4_count += 1\n",
    "\n",
    "    if action == 5:\n",
    "        reward_total += 0\n",
    "        mikounyu_count += 1\n",
    "    else:\n",
    "        kounyu_count += 1\n",
    "        result = reward.calc(v, action)\n",
    "        if result > 0:\n",
    "            atari_count += 1\n",
    "        else:\n",
    "            hazure_count += 1\n",
    "\n",
    "        reward_total += result\n",
    "\n",
    "print(f\"RANK_ONE_HORSE 回数: {action_0_count}\")\n",
    "print(f\"RANK_TWO_HORSE 回数: {action_1_count}\")\n",
    "print(f\"RANK_THREE_HORSE 回数: {action_2_count}\")\n",
    "print(f\"RANK_FOUR_HORSE 回数: {action_3_count}\")\n",
    "print(f\"RANK_FIVE_HORSE 回数: {action_4_count}\")\n",
    "print(f\"未購入回数: {mikounyu_count}\")\n",
    "print(f\"当たり馬券: {atari_count}\")\n",
    "print(f\"はずれ馬券: {hazure_count}\")\n",
    "print(f\"的中率: {(atari_count / (atari_count + hazure_count))}\")\n",
    "print(f\"儲け: {reward_total}\")"
   ]
  },
  {
   "cell_type": "code",
   "execution_count": null,
   "id": "b9ffdf01-6483-4bea-bedd-b9837ec38c18",
   "metadata": {},
   "outputs": [],
   "source": []
  }
 ],
 "metadata": {
  "kernelspec": {
   "display_name": "Python 3 (ipykernel)",
   "language": "python",
   "name": "python3"
  },
  "language_info": {
   "codemirror_mode": {
    "name": "ipython",
    "version": 3
   },
   "file_extension": ".py",
   "mimetype": "text/x-python",
   "name": "python",
   "nbconvert_exporter": "python",
   "pygments_lexer": "ipython3",
   "version": "3.10.9"
  },
  "vscode": {
   "interpreter": {
    "hash": "4caf82e643e4ad2a990ff255ea5c6c47b964940d4c625cd8ad41c21257366cb4"
   }
  }
 },
 "nbformat": 4,
 "nbformat_minor": 5
}
