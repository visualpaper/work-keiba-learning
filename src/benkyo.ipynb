{
 "cells": [
  {
   "cell_type": "code",
   "execution_count": 1,
   "id": "10b21e33-5ce1-4ac0-8d75-fcd270425986",
   "metadata": {},
   "outputs": [
    {
     "name": "stdout",
     "output_type": "stream",
     "text": [
      "WARNING:tensorflow:From C:\\Users\\kazuy\\anaconda3\\envs\\keiba_ai_learning2\\lib\\site-packages\\tensorflow\\python\\autograph\\pyct\\static_analysis\\liveness.py:83: Analyzer.lamba_check (from tensorflow.python.autograph.pyct.static_analysis.liveness) is deprecated and will be removed after 2023-09-23.\n",
      "Instructions for updating:\n",
      "Lambda fuctions will be no more assumed to be used in the statement where they are used, or at least in the same block. https://github.com/tensorflow/tensorflow/issues/56089\n",
      "Training for 50000 steps ...\n",
      "Interval 1 (0 steps performed)\n",
      "   75/10000 [..............................] - ETA: 20s - reward: -42572.0000"
     ]
    },
    {
     "name": "stderr",
     "output_type": "stream",
     "text": [
      "C:\\Users\\kazuy\\anaconda3\\envs\\keiba_ai_learning2\\lib\\site-packages\\keras\\engine\\training_v1.py:2357: UserWarning: `Model.state_updates` will be removed in a future version. This property should not be used in TensorFlow 2.0, as `updates` are applied automatically.\n",
      "  updates=self.state_updates,\n"
     ]
    },
    {
     "name": "stdout",
     "output_type": "stream",
     "text": [
      "  993/10000 [=>............................] - ETA: 18s - reward: -43614.6022"
     ]
    },
    {
     "name": "stderr",
     "output_type": "stream",
     "text": [
      "C:\\Users\\kazuy\\anaconda3\\envs\\keiba_ai_learning2\\lib\\site-packages\\keras\\engine\\training_v1.py:2357: UserWarning: `Model.state_updates` will be removed in a future version. This property should not be used in TensorFlow 2.0, as `updates` are applied automatically.\n",
      "  updates=self.state_updates,\n"
     ]
    },
    {
     "name": "stdout",
     "output_type": "stream",
     "text": [
      "10000/10000 [==============================] - 65s 6ms/step - reward: -15587.6900\n",
      "3 episodes - episode_reward: -51821000.000 [-74219000.000, -39880600.000] - loss: 991116126691.560 - mae: 36702.797 - mean_q: 21399.257\n",
      "\n",
      "Interval 2 (10000 steps performed)\n",
      "10000/10000 [==============================] - 71s 7ms/step - reward: -12542.1700\n",
      "3 episodes - episode_reward: -41661733.333 [-41912700.000, -41235300.000] - loss: 66168664064.000 - mae: 19956.381 - mean_q: 19419.986\n",
      "\n",
      "Interval 3 (20000 steps performed)\n",
      "10000/10000 [==============================] - 72s 7ms/step - reward: -12403.2700\n",
      "3 episodes - episode_reward: -41196600.000 [-41501500.000, -40998800.000] - loss: 11681057.000 - mae: 11825.420 - mean_q: -3185.055\n",
      "\n",
      "Interval 4 (30000 steps performed)\n",
      "10000/10000 [==============================] - 72s 7ms/step - reward: -12702.4900\n",
      "3 episodes - episode_reward: -42187100.000 [-43329800.000, -40928900.000] - loss: 12154809.000 - mae: 11484.952 - mean_q: -2578.779\n",
      "\n",
      "Interval 5 (40000 steps performed)\n",
      "10000/10000 [==============================] - 71s 7ms/step - reward: -8141.9700\n",
      "done, took 350.620 seconds\n"
     ]
    }
   ],
   "source": [
    "import gym\n",
    "from tensorflow import keras\n",
    "from tensorflow.keras.optimizers.legacy import Adam\n",
    "from rl.agents.dqn import DQNAgent\n",
    "from rl.policy import BoltzmannQPolicy\n",
    "from rl.memory import SequentialMemory\n",
    "import matplotlib.pyplot as plt\n",
    "\n",
    "import numpy as np\n",
    "\n",
    "from env.env import KeibaEnv\n",
    "\n",
    "# ゲーム環境を作成します\n",
    "env = KeibaEnv()\n",
    "\n",
    "# ゲーム環境を初期化します。\n",
    "observation = env.reset()\n",
    "\n",
    "# 環境からアクション数を取得します。このゲームでは4となります。\n",
    "nb_actions = env.action_space.n\n",
    "\n",
    "# Kerasを使ってモデルを作成します。\n",
    "model = keras.models.Sequential([\n",
    "    keras.layers.Flatten(input_shape=(1,) + env.observation_space.shape),\n",
    "    keras.layers.Dense(16, activation=\"relu\"),\n",
    "    keras.layers.Dense(16, activation=\"relu\"),\n",
    "    keras.layers.Dense(nb_actions, activation=\"linear\"),\n",
    "])\n",
    "\n",
    "# 経験値を蓄積するためのメモリです。学習を安定させるために使用します。\n",
    "memory = SequentialMemory(limit=50000, window_length=1)\n",
    "\n",
    "# 行動ポリシーはBoltzmannQPolicyを使用しています。\n",
    "# EpsGreedyQPolicyと比較して、こちらの方が収束が早かったので採用しています。\n",
    "policy = BoltzmannQPolicy()\n",
    "\n",
    "# DQNAgentを作成します。\n",
    "dqn = DQNAgent(\n",
    "    model=model,\n",
    "    nb_actions=nb_actions,\n",
    "    memory=memory,\n",
    "    target_model_update=1e-2,\n",
    "    policy=policy)\n",
    "\n",
    "# DQNAgentのコンパイル。最適化はAdam,評価関数はMAEを使用します。\n",
    "dqn.compile(Adam(learning_rate=1e-3), metrics=['mae'])\n",
    "\n",
    "# 学習を開始します。100000ステップ実行します。\n",
    "history = dqn.fit(env, nb_steps=50000, visualize=False, verbose=1)\n",
    "\n"
   ]
  },
  {
   "cell_type": "code",
   "execution_count": 2,
   "id": "8147fc66-bb20-4bce-bdc3-6bd2ac04f446",
   "metadata": {},
   "outputs": [
    {
     "data": {
      "image/png": "[encoded data removed]",
      "text/plain": [
       "<Figure size 640x480 with 1 Axes>"
      ]
     },
     "metadata": {},
     "output_type": "display_data"
    }
   ],
   "source": [
    "# 学習した重みをファイルに保存します。\n",
    "#dqn.save_weights('moving_test.hdf5')\n",
    "\n",
    "# ゲームごとのステップ数と報酬をグラフ化します。\n",
    "plt.plot(history.history['nb_episode_steps'], label='nb_episode_steps')\n",
    "plt.plot(history.history['episode_reward'], label='episode_reward')\n",
    "plt.legend()\n",
    "plt.show()"
   ]
  },
  {
   "cell_type": "code",
   "execution_count": 3,
   "id": "3ca40397-5c7d-4fb8-985f-841e0dd6e502",
   "metadata": {},
   "outputs": [
    {
     "name": "stdout",
     "output_type": "stream",
     "text": [
      "155\n",
      "136500.0\n",
      "-133000\n"
     ]
    }
   ],
   "source": [
    "print(env.get_kounyu_total())\n",
    "print(env.get_atari_total())\n",
    "print(env.get_hazure_total())"
   ]
  }
 ],
 "metadata": {
  "kernelspec": {
   "display_name": "Python 3 (ipykernel)",
   "language": "python",
   "name": "python3"
  },
  "language_info": {
   "codemirror_mode": {
    "name": "ipython",
    "version": 3
   },
   "file_extension": ".py",
   "mimetype": "text/x-python",
   "name": "python",
   "nbconvert_exporter": "python",
   "pygments_lexer": "ipython3",
   "version": "3.10.9"
  },
  "vscode": {
   "interpreter": {
    "hash": "4caf82e643e4ad2a990ff255ea5c6c47b964940d4c625cd8ad41c21257366cb4"
   }
  }
 },
 "nbformat": 4,
 "nbformat_minor": 5
}
